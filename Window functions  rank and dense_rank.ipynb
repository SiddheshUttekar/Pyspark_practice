{
 "cells": [
  {
   "cell_type": "code",
   "execution_count": 0,
   "metadata": {
    "application/vnd.databricks.v1+cell": {
     "cellMetadata": {
      "byteLimit": 2048000,
      "rowLimit": 10000
     },
     "inputWidgets": {},
     "nuid": "90634d1d-eef7-4cd6-a2a1-a8e80aa836eb",
     "showTitle": false,
     "title": ""
    }
   },
   "outputs": [],
   "source": [
    "from pyspark.sql.functions import *\n",
    "from pyspark.sql.types import *"
   ]
  },
  {
   "cell_type": "code",
   "execution_count": 0,
   "metadata": {
    "application/vnd.databricks.v1+cell": {
     "cellMetadata": {
      "byteLimit": 2048000,
      "rowLimit": 10000
     },
     "inputWidgets": {},
     "nuid": "7a0d5f22-ee3d-42d1-acff-cf773e50f9c5",
     "showTitle": false,
     "title": ""
    }
   },
   "outputs": [
    {
     "output_type": "stream",
     "name": "stdout",
     "output_type": "stream",
     "text": [
      "+---+--------+------+------+---------+\n| id|    name|salary|gender|     dept|\n+---+--------+------+------+---------+\n|  1|  manish| 50000|     m|       IT|\n|  2|  vikash| 60000|     m|    sales|\n|  3| raushan| 70000|     m|marketing|\n|  4|  mukesh| 80000|     m|       IT|\n|  5|   priti| 90000|     f|    sales|\n|  6|  nikita| 45000|     f|marketing|\n|  7|  ragini| 55000|     f|marketing|\n|  8|   rashi|100000|     f|       IT|\n|  9|  aditya| 65000|     m|       IT|\n| 10|   rahul| 50000|     m|marketing|\n| 11|   rakhi| 50000|     f|       IT|\n| 12|akhilesh| 90000|     m|    sales|\n+---+--------+------+------+---------+\n\n"
     ]
    }
   ],
   "source": [
    "emp_data = [(1,'manish',50000,'IT','m'),\n",
    "(2,'vikash',60000,'sales','m'),\n",
    "(3,'raushan',70000,'marketing','m'),\n",
    "(4,'mukesh',80000,'IT','m'),\n",
    "(5,'priti',90000,'sales','f'),\n",
    "(6,'nikita',45000,'marketing','f'),\n",
    "(7,'ragini',55000,'marketing','f'),\n",
    "(8,'rashi',100000,'IT','f'),\n",
    "(9,'aditya',65000,'IT','m'),\n",
    "(10,'rahul',50000,'marketing','m'),\n",
    "(11,'rakhi',50000,'IT','f'),\n",
    "(12,'akhilesh',90000,'sales','m')]\n",
    "\n",
    "emp_schema=['id','name','salary','dept','gender']\n",
    "\n",
    "emp_df=spark.createDataFrame(data=emp_data,schema=emp_schema)\n",
    "\n",
    "emp_df=emp_df.select('id','name','salary','gender','dept')\n",
    "\n",
    "emp_df.show()"
   ]
  },
  {
   "cell_type": "markdown",
   "metadata": {
    "application/vnd.databricks.v1+cell": {
     "cellMetadata": {},
     "inputWidgets": {},
     "nuid": "47a07475-e1b7-4700-acdf-bd65b1f45b91",
     "showTitle": false,
     "title": ""
    }
   },
   "source": [
    "Group By"
   ]
  },
  {
   "cell_type": "code",
   "execution_count": 0,
   "metadata": {
    "application/vnd.databricks.v1+cell": {
     "cellMetadata": {
      "byteLimit": 2048000,
      "rowLimit": 10000
     },
     "inputWidgets": {},
     "nuid": "a28dfe41-489a-422d-ab81-4c7816845602",
     "showTitle": false,
     "title": ""
    }
   },
   "outputs": [
    {
     "output_type": "stream",
     "name": "stdout",
     "output_type": "stream",
     "text": [
      "+---------+-----------+\n|     dept|sum(salary)|\n+---------+-----------+\n|       IT|     345000|\n|marketing|     220000|\n|    sales|     240000|\n+---------+-----------+\n\n"
     ]
    }
   ],
   "source": [
    "emp_df.groupBy(\"dept\")\\\n",
    "       .agg(sum(\"salary\")).show()"
   ]
  },
  {
   "cell_type": "markdown",
   "metadata": {
    "application/vnd.databricks.v1+cell": {
     "cellMetadata": {},
     "inputWidgets": {},
     "nuid": "66e55516-00fe-4b80-a90f-27450444d2a9",
     "showTitle": false,
     "title": ""
    }
   },
   "source": [
    "Window Function"
   ]
  },
  {
   "cell_type": "code",
   "execution_count": 0,
   "metadata": {
    "application/vnd.databricks.v1+cell": {
     "cellMetadata": {
      "byteLimit": 2048000,
      "rowLimit": 10000
     },
     "inputWidgets": {},
     "nuid": "71ec72b2-d346-4712-856b-6ce4593ff25f",
     "showTitle": false,
     "title": ""
    }
   },
   "outputs": [],
   "source": [
    "from pyspark.sql.window import Window"
   ]
  },
  {
   "cell_type": "code",
   "execution_count": 0,
   "metadata": {
    "application/vnd.databricks.v1+cell": {
     "cellMetadata": {
      "byteLimit": 2048000,
      "rowLimit": 10000
     },
     "inputWidgets": {},
     "nuid": "9d86a8fc-d08d-4f76-b66a-a30ecd6b0b3d",
     "showTitle": false,
     "title": ""
    }
   },
   "outputs": [
    {
     "output_type": "stream",
     "name": "stdout",
     "output_type": "stream",
     "text": [
      "+---+--------+------+------+---------+----------+----+----------+\n|id |name    |salary|gender|dept     |row_number|Rank|Dense_rank|\n+---+--------+------+------+---------+----------+----+----------+\n|1  |manish  |50000 |m     |IT       |1         |1   |1         |\n|11 |rakhi   |50000 |f     |IT       |2         |1   |1         |\n|9  |aditya  |65000 |m     |IT       |3         |3   |2         |\n|4  |mukesh  |80000 |m     |IT       |4         |4   |3         |\n|8  |rashi   |100000|f     |IT       |5         |5   |4         |\n|6  |nikita  |45000 |f     |marketing|1         |1   |1         |\n|10 |rahul   |50000 |m     |marketing|2         |2   |2         |\n|7  |ragini  |55000 |f     |marketing|3         |3   |3         |\n|3  |raushan |70000 |m     |marketing|4         |4   |4         |\n|2  |vikash  |60000 |m     |sales    |1         |1   |1         |\n|5  |priti   |90000 |f     |sales    |2         |2   |2         |\n|12 |akhilesh|90000 |m     |sales    |3         |2   |2         |\n+---+--------+------+------+---------+----------+----+----------+\n\n"
     ]
    }
   ],
   "source": [
    "window = Window.partitionBy(\"dept\").orderBy(\"salary\")\n",
    "\n",
    "emp_df.withColumn(\"row_number\",row_number().over(window))\\\n",
    "    .withColumn(\"Rank\",rank().over(window))\\\n",
    "    .withColumn(\"Dense_rank\",dense_rank().over(window))\\\n",
    ".show(truncate=False)"
   ]
  },
  {
   "cell_type": "markdown",
   "metadata": {
    "application/vnd.databricks.v1+cell": {
     "cellMetadata": {},
     "inputWidgets": {},
     "nuid": "9c7bdddd-c75a-4e28-8695-7daeb9959f52",
     "showTitle": false,
     "title": ""
    }
   },
   "source": [
    "for male and female different in male find top 2 earners and in female top two earners"
   ]
  },
  {
   "cell_type": "code",
   "execution_count": 0,
   "metadata": {
    "application/vnd.databricks.v1+cell": {
     "cellMetadata": {
      "byteLimit": 2048000,
      "rowLimit": 10000
     },
     "inputWidgets": {},
     "nuid": "0aea8f5b-dc53-4c41-8c28-3d48c114cf44",
     "showTitle": false,
     "title": ""
    }
   },
   "outputs": [
    {
     "output_type": "stream",
     "name": "stdout",
     "output_type": "stream",
     "text": [
      "+---+--------+------+------+---------+----------+----+----------+\n|id |name    |salary|gender|dept     |row_number|Rank|Dense_rank|\n+---+--------+------+------+---------+----------+----+----------+\n|11 |rakhi   |50000 |f     |IT       |1         |1   |1         |\n|8  |rashi   |100000|f     |IT       |2         |2   |2         |\n|1  |manish  |50000 |m     |IT       |1         |1   |1         |\n|9  |aditya  |65000 |m     |IT       |2         |2   |2         |\n|4  |mukesh  |80000 |m     |IT       |3         |3   |3         |\n|6  |nikita  |45000 |f     |marketing|1         |1   |1         |\n|7  |ragini  |55000 |f     |marketing|2         |2   |2         |\n|10 |rahul   |50000 |m     |marketing|1         |1   |1         |\n|3  |raushan |70000 |m     |marketing|2         |2   |2         |\n|5  |priti   |90000 |f     |sales    |1         |1   |1         |\n|2  |vikash  |60000 |m     |sales    |1         |1   |1         |\n|12 |akhilesh|90000 |m     |sales    |2         |2   |2         |\n+---+--------+------+------+---------+----------+----+----------+\n\n"
     ]
    }
   ],
   "source": [
    "window = Window.partitionBy(\"dept\",\"gender\").orderBy(\"salary\")\n",
    "\n",
    "emp_df.withColumn(\"row_number\",row_number().over(window))\\\n",
    "    .withColumn(\"Rank\",rank().over(window))\\\n",
    "    .withColumn(\"Dense_rank\",dense_rank().over(window))\\\n",
    ".show(truncate=False)"
   ]
  },
  {
   "cell_type": "code",
   "execution_count": 0,
   "metadata": {
    "application/vnd.databricks.v1+cell": {
     "cellMetadata": {
      "byteLimit": 2048000,
      "rowLimit": 10000
     },
     "inputWidgets": {},
     "nuid": "8ae0b215-a6b1-433b-a152-9a8c8516bab6",
     "showTitle": false,
     "title": ""
    }
   },
   "outputs": [
    {
     "output_type": "stream",
     "name": "stdout",
     "output_type": "stream",
     "text": [
      "+---+--------+------+------+---------+----------+----+----------+\n|id |name    |salary|gender|dept     |row_number|Rank|Dense_rank|\n+---+--------+------+------+---------+----------+----+----------+\n|8  |rashi   |100000|f     |IT       |1         |1   |1         |\n|4  |mukesh  |80000 |m     |IT       |2         |2   |2         |\n|3  |raushan |70000 |m     |marketing|1         |1   |1         |\n|7  |ragini  |55000 |f     |marketing|2         |2   |2         |\n|5  |priti   |90000 |f     |sales    |1         |1   |1         |\n|12 |akhilesh|90000 |m     |sales    |2         |1   |1         |\n|2  |vikash  |60000 |m     |sales    |3         |3   |2         |\n+---+--------+------+------+---------+----------+----+----------+\n\n"
     ]
    }
   ],
   "source": [
    "window = Window.partitionBy(\"dept\").orderBy(desc(\"salary\"))\n",
    "\n",
    "emp_df.withColumn(\"row_number\",row_number().over(window))\\\n",
    "    .withColumn(\"Rank\",rank().over(window))\\\n",
    "    .withColumn(\"Dense_rank\",dense_rank().over(window))\\\n",
    "        .filter(col(\"Dense_Rank\")<=2)\\\n",
    ".show(truncate=False)"
   ]
  },
  {
   "cell_type": "code",
   "execution_count": 0,
   "metadata": {
    "application/vnd.databricks.v1+cell": {
     "cellMetadata": {
      "byteLimit": 2048000,
      "rowLimit": 10000
     },
     "inputWidgets": {},
     "nuid": "153bda93-4f58-4612-9a7e-c6a0a0f86f1b",
     "showTitle": false,
     "title": ""
    }
   },
   "outputs": [
    {
     "output_type": "stream",
     "name": "stdout",
     "output_type": "stream",
     "text": [
      "+---+--------+------+------+---------+----------+----+----------+\n|id |name    |salary|gender|dept     |row_number|Rank|Dense_rank|\n+---+--------+------+------+---------+----------+----+----------+\n|8  |rashi   |100000|f     |IT       |1         |1   |1         |\n|11 |rakhi   |50000 |f     |IT       |2         |2   |2         |\n|4  |mukesh  |80000 |m     |IT       |1         |1   |1         |\n|9  |aditya  |65000 |m     |IT       |2         |2   |2         |\n|7  |ragini  |55000 |f     |marketing|1         |1   |1         |\n|6  |nikita  |45000 |f     |marketing|2         |2   |2         |\n|3  |raushan |70000 |m     |marketing|1         |1   |1         |\n|10 |rahul   |50000 |m     |marketing|2         |2   |2         |\n|5  |priti   |90000 |f     |sales    |1         |1   |1         |\n|12 |akhilesh|90000 |m     |sales    |1         |1   |1         |\n|2  |vikash  |60000 |m     |sales    |2         |2   |2         |\n+---+--------+------+------+---------+----------+----+----------+\n\n"
     ]
    }
   ],
   "source": [
    "window = Window.partitionBy(\"dept\",\"gender\").orderBy(desc(\"salary\"))\n",
    "\n",
    "emp_df.withColumn(\"row_number\",row_number().over(window))\\\n",
    "    .withColumn(\"Rank\",rank().over(window))\\\n",
    "    .withColumn(\"Dense_rank\",dense_rank().over(window))\\\n",
    "        .filter(col(\"Dense_Rank\")<=2)\\\n",
    ".show(truncate=False)"
   ]
  }
 ],
 "metadata": {
  "application/vnd.databricks.v1+notebook": {
   "dashboards": [],
   "environmentMetadata": null,
   "language": "python",
   "notebookMetadata": {
    "pythonIndentUnit": 4
   },
   "notebookName": "Window functions  rank and dense_rank",
   "widgets": {}
  }
 },
 "nbformat": 4,
 "nbformat_minor": 0
}
