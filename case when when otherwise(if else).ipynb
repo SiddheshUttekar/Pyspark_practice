{
 "cells": [
  {
   "cell_type": "code",
   "execution_count": 0,
   "metadata": {
    "application/vnd.databricks.v1+cell": {
     "cellMetadata": {
      "byteLimit": 2048000,
      "rowLimit": 10000
     },
     "inputWidgets": {},
     "nuid": "86db3bb6-d900-45f9-984d-f88088474ab9",
     "showTitle": false,
     "title": ""
    }
   },
   "outputs": [],
   "source": [
    "from pyspark.sql.functions import *\n",
    "from pyspark.sql.types import *"
   ]
  },
  {
   "cell_type": "code",
   "execution_count": 0,
   "metadata": {
    "application/vnd.databricks.v1+cell": {
     "cellMetadata": {
      "byteLimit": 2048000,
      "rowLimit": 10000
     },
     "inputWidgets": {},
     "nuid": "7e38beed-f69e-4644-bfec-01695e470919",
     "showTitle": false,
     "title": ""
    }
   },
   "outputs": [],
   "source": [
    "emp_data = [\n",
    "(1,'manish',26,20000,'india','IT'),\n",
    "(2,'rahul',None,40000,'germany','engineering'),\n",
    "(3,'pawan',12,60000,'india','sales'),\n",
    "(4,'roshini',44,None,'uk','engineering'),\n",
    "(5,'raushan',35,70000,'india','sales'),\n",
    "(6,None,29,200000,'uk','IT'),\n",
    "(7,'adam',37,65000,'us','IT'),\n",
    "(8,'chris',16,40000,'us','sales'),\n",
    "(None,None,None,None,None,None),\n",
    "(7,'adam',37,65000,'us','IT')\n",
    "]\n",
    "\n",
    "emp_schema=['id','name','age','salary','country','dept']\n",
    "\n",
    "emp_df=spark.createDataFrame(data=emp_data,schema=emp_schema)"
   ]
  },
  {
   "cell_type": "code",
   "execution_count": 0,
   "metadata": {
    "application/vnd.databricks.v1+cell": {
     "cellMetadata": {
      "byteLimit": 2048000,
      "rowLimit": 10000
     },
     "inputWidgets": {},
     "nuid": "c36c8b3c-3e2e-4a62-a011-d5f73080c9a0",
     "showTitle": false,
     "title": ""
    }
   },
   "outputs": [
    {
     "output_type": "stream",
     "name": "stdout",
     "output_type": "stream",
     "text": [
      "+----+-------+----+------+-------+-----------+\n|  id|   name| age|salary|country|       dept|\n+----+-------+----+------+-------+-----------+\n|   1| manish|  26| 20000|  india|         IT|\n|   2|  rahul|null| 40000|germany|engineering|\n|   3|  pawan|  12| 60000|  india|      sales|\n|   4|roshini|  44|  null|     uk|engineering|\n|   5|raushan|  35| 70000|  india|      sales|\n|   6|   null|  29|200000|     uk|         IT|\n|   7|   adam|  37| 65000|     us|         IT|\n|   8|  chris|  16| 40000|     us|      sales|\n|null|   null|null|  null|   null|       null|\n|   7|   adam|  37| 65000|     us|         IT|\n+----+-------+----+------+-------+-----------+\n\n"
     ]
    }
   ],
   "source": [
    "emp_df.show()"
   ]
  },
  {
   "cell_type": "code",
   "execution_count": 0,
   "metadata": {
    "application/vnd.databricks.v1+cell": {
     "cellMetadata": {
      "byteLimit": 2048000,
      "rowLimit": 10000
     },
     "inputWidgets": {},
     "nuid": "f590558f-8029-4e50-962a-4f966d735074",
     "showTitle": false,
     "title": ""
    }
   },
   "outputs": [
    {
     "output_type": "stream",
     "name": "stdout",
     "output_type": "stream",
     "text": [
      "+----+-------+----+------+-------+-----------+-------+\n|  id|   name| age|salary|country|       dept|  adult|\n+----+-------+----+------+-------+-----------+-------+\n|   1| manish|  26| 20000|  india|         IT|    yes|\n|   2|  rahul|null| 40000|germany|engineering|NoValue|\n|   3|  pawan|  12| 60000|  india|      sales|     No|\n|   4|roshini|  44|  null|     uk|engineering|    yes|\n|   5|raushan|  35| 70000|  india|      sales|    yes|\n|   6|   null|  29|200000|     uk|         IT|    yes|\n|   7|   adam|  37| 65000|     us|         IT|    yes|\n|   8|  chris|  16| 40000|     us|      sales|     No|\n|null|   null|null|  null|   null|       null|NoValue|\n|   7|   adam|  37| 65000|     us|         IT|    yes|\n+----+-------+----+------+-------+-----------+-------+\n\n"
     ]
    }
   ],
   "source": [
    "emp_df.withColumn(\"adult\",when(col(\"age\")<18,\"No\")\n",
    "                        .when(col(\"age\")>18,\"yes\")\n",
    "                        .otherwise(\"NoValue\")).show()"
   ]
  },
  {
   "cell_type": "code",
   "execution_count": 0,
   "metadata": {
    "application/vnd.databricks.v1+cell": {
     "cellMetadata": {
      "byteLimit": 2048000,
      "rowLimit": 10000
     },
     "inputWidgets": {},
     "nuid": "1690d6ee-f8d9-42af-9232-9d934d7dcc67",
     "showTitle": false,
     "title": ""
    }
   },
   "outputs": [
    {
     "output_type": "stream",
     "name": "stdout",
     "output_type": "stream",
     "text": [
      "+----+-------+---+------+-------+-----------+-----+\n|  id|   name|age|salary|country|       dept|adult|\n+----+-------+---+------+-------+-----------+-----+\n|   1| manish| 26| 20000|  india|         IT|  yes|\n|   2|  rahul| 19| 40000|germany|engineering|  yes|\n|   3|  pawan| 12| 60000|  india|      sales|   No|\n|   4|roshini| 44|  null|     uk|engineering|  yes|\n|   5|raushan| 35| 70000|  india|      sales|  yes|\n|   6|   null| 29|200000|     uk|         IT|  yes|\n|   7|   adam| 37| 65000|     us|         IT|  yes|\n|   8|  chris| 16| 40000|     us|      sales|   No|\n|null|   null| 19|  null|   null|       null|  yes|\n|   7|   adam| 37| 65000|     us|         IT|  yes|\n+----+-------+---+------+-------+-----------+-----+\n\n"
     ]
    }
   ],
   "source": [
    "emp_df.withColumn(\"age\",when(col(\"age\").isNull(),lit(19))\n",
    "                  .otherwise(col(\"age\")))\\\n",
    "        .withColumn(\"adult\",when(col(\"age\")>18,\"yes\")\n",
    "                          .otherwise(\"No\")).show()\n"
   ]
  },
  {
   "cell_type": "code",
   "execution_count": 0,
   "metadata": {
    "application/vnd.databricks.v1+cell": {
     "cellMetadata": {
      "byteLimit": 2048000,
      "rowLimit": 10000
     },
     "inputWidgets": {},
     "nuid": "cd277d24-16ba-4367-959b-c310e02d3cec",
     "showTitle": false,
     "title": ""
    }
   },
   "outputs": [
    {
     "output_type": "stream",
     "name": "stdout",
     "output_type": "stream",
     "text": [
      "+----+-------+----+------+-------+-----------+--------+\n|  id|   name| age|salary|country|       dept|Category|\n+----+-------+----+------+-------+-----------+--------+\n|   1| manish|  26| 20000|  india|         IT|     Mid|\n|   2|  rahul|null| 40000|germany|engineering|   major|\n|   3|  pawan|  12| 60000|  india|      sales|   Minor|\n|   4|roshini|  44|  null|     uk|engineering|   major|\n|   5|raushan|  35| 70000|  india|      sales|   major|\n|   6|   null|  29|200000|     uk|         IT|     Mid|\n|   7|   adam|  37| 65000|     us|         IT|   major|\n|   8|  chris|  16| 40000|     us|      sales|   Minor|\n|null|   null|null|  null|   null|       null|   major|\n|   7|   adam|  37| 65000|     us|         IT|   major|\n+----+-------+----+------+-------+-----------+--------+\n\n"
     ]
    }
   ],
   "source": [
    "emp_df.withColumn(\"Category\",when((col(\"age\")>0) & (col(\"age\")<18),\"Minor\")\n",
    "                  .when((col(\"age\")>18) & (col(\"age\")<30),\"Mid\")\n",
    "                  .otherwise(\"major\")).show()"
   ]
  },
  {
   "cell_type": "code",
   "execution_count": 0,
   "metadata": {
    "application/vnd.databricks.v1+cell": {
     "cellMetadata": {
      "byteLimit": 2048000,
      "rowLimit": 10000
     },
     "inputWidgets": {},
     "nuid": "a485f093-c865-4b08-bd1a-789c3d1a8ba9",
     "showTitle": false,
     "title": ""
    }
   },
   "outputs": [],
   "source": [
    "emp_df.createOrReplaceTempView(\"table\")"
   ]
  },
  {
   "cell_type": "code",
   "execution_count": 0,
   "metadata": {
    "application/vnd.databricks.v1+cell": {
     "cellMetadata": {
      "byteLimit": 2048000,
      "rowLimit": 10000
     },
     "inputWidgets": {},
     "nuid": "8904ce29-f692-45a0-9637-d848af8abc1e",
     "showTitle": false,
     "title": ""
    }
   },
   "outputs": [
    {
     "output_type": "stream",
     "name": "stdout",
     "output_type": "stream",
     "text": [
      "+----+-------+----+------+-------+-----------+-------+\n|  id|   name| age|salary|country|       dept|  adult|\n+----+-------+----+------+-------+-----------+-------+\n|   1| manish|  26| 20000|  india|         IT|  major|\n|   2|  rahul|null| 40000|germany|engineering|novalue|\n|   3|  pawan|  12| 60000|  india|      sales|  minor|\n|   4|roshini|  44|  null|     uk|engineering|  major|\n|   5|raushan|  35| 70000|  india|      sales|  major|\n|   6|   null|  29|200000|     uk|         IT|  major|\n|   7|   adam|  37| 65000|     us|         IT|  major|\n|   8|  chris|  16| 40000|     us|      sales|  minor|\n|null|   null|null|  null|   null|       null|novalue|\n|   7|   adam|  37| 65000|     us|         IT|  major|\n+----+-------+----+------+-------+-----------+-------+\n\n"
     ]
    }
   ],
   "source": [
    "spark.sql(\"\"\"\n",
    "          select *,\n",
    "          case when age<18 then 'minor'\n",
    "          when age>18 then 'major'\n",
    "          else 'novalue'\n",
    "          end as adult\n",
    "           from table\n",
    "\n",
    "          \"\"\").show()"
   ]
  }
 ],
 "metadata": {
  "application/vnd.databricks.v1+notebook": {
   "dashboards": [],
   "environmentMetadata": null,
   "language": "python",
   "notebookMetadata": {
    "pythonIndentUnit": 4
   },
   "notebookName": "case when when otherwise(if else)",
   "widgets": {}
  }
 },
 "nbformat": 4,
 "nbformat_minor": 0
}
