{
 "cells": [
  {
   "cell_type": "code",
   "execution_count": 0,
   "metadata": {
    "application/vnd.databricks.v1+cell": {
     "cellMetadata": {},
     "inputWidgets": {},
     "nuid": "1ff42b7f-d4c4-44c0-b3c7-b12f5a528ad4",
     "showTitle": false,
     "title": ""
    }
   },
   "outputs": [],
   "source": []
  },
  {
   "cell_type": "code",
   "execution_count": 0,
   "metadata": {
    "application/vnd.databricks.v1+cell": {
     "cellMetadata": {
      "byteLimit": 2048000,
      "rowLimit": 10000
     },
     "inputWidgets": {},
     "nuid": "b15a1406-1574-477d-afc0-986db618ca70",
     "showTitle": false,
     "title": ""
    }
   },
   "outputs": [],
   "source": [
    "from pyspark.sql.functions import *\n",
    "from pyspark.sql.types import *\n",
    "from pyspark.sql.window import Window"
   ]
  },
  {
   "cell_type": "code",
   "execution_count": 0,
   "metadata": {
    "application/vnd.databricks.v1+cell": {
     "cellMetadata": {
      "byteLimit": 2048000,
      "rowLimit": 10000
     },
     "inputWidgets": {},
     "nuid": "4ce7f690-434a-454e-944c-177a7ecddcae",
     "showTitle": false,
     "title": ""
    }
   },
   "outputs": [],
   "source": [
    "product_data = [\n",
    "(1,\"iphone\",\"01-01-2023\",1500000),\n",
    "(2,\"samsung\",\"01-01-2023\",1100000),\n",
    "(3,\"oneplus\",\"01-01-2023\",1100000),\n",
    "(1,\"iphone\",\"01-02-2023\",1300000),\n",
    "(2,\"samsung\",\"01-02-2023\",1120000),\n",
    "(3,\"oneplus\",\"01-02-2023\",1120000),\n",
    "(1,\"iphone\",\"01-03-2023\",1600000),\n",
    "(2,\"samsung\",\"01-03-2023\",1080000),\n",
    "(3,\"oneplus\",\"01-03-2023\",1160000),\n",
    "(1,\"iphone\",\"01-04-2023\",1700000),\n",
    "(2,\"samsung\",\"01-04-2023\",1800000),\n",
    "(3,\"oneplus\",\"01-04-2023\",1170000),\n",
    "(1,\"iphone\",\"01-05-2023\",1200000),\n",
    "(2,\"samsung\",\"01-05-2023\",980000),\n",
    "(3,\"oneplus\",\"01-05-2023\",1175000),\n",
    "(1,\"iphone\",\"01-06-2023\",1100000),\n",
    "(2,\"samsung\",\"01-06-2023\",1100000),\n",
    "(3,\"oneplus\",\"01-06-2023\",1200000)\n",
    "]\n",
    "\n",
    "product_schema=['product_id','product_name','sales_date','sales']\n",
    "\n",
    "product_df=spark.createDataFrame(data=product_data,schema=product_schema)"
   ]
  },
  {
   "cell_type": "code",
   "execution_count": 0,
   "metadata": {
    "application/vnd.databricks.v1+cell": {
     "cellMetadata": {
      "byteLimit": 2048000,
      "rowLimit": 10000
     },
     "inputWidgets": {},
     "nuid": "f54f4c0f-7d6e-43a0-a392-d2b6bc8b0034",
     "showTitle": false,
     "title": ""
    }
   },
   "outputs": [
    {
     "output_type": "stream",
     "name": "stdout",
     "output_type": "stream",
     "text": [
      "+----------+------------+----------+-------+\n|product_id|product_name|sales_date|  sales|\n+----------+------------+----------+-------+\n|         1|      iphone|01-01-2023|1500000|\n|         2|     samsung|01-01-2023|1100000|\n|         3|     oneplus|01-01-2023|1100000|\n|         1|      iphone|01-02-2023|1300000|\n|         2|     samsung|01-02-2023|1120000|\n|         3|     oneplus|01-02-2023|1120000|\n|         1|      iphone|01-03-2023|1600000|\n|         2|     samsung|01-03-2023|1080000|\n|         3|     oneplus|01-03-2023|1160000|\n|         1|      iphone|01-04-2023|1700000|\n|         2|     samsung|01-04-2023|1800000|\n|         3|     oneplus|01-04-2023|1170000|\n|         1|      iphone|01-05-2023|1200000|\n|         2|     samsung|01-05-2023| 980000|\n|         3|     oneplus|01-05-2023|1175000|\n|         1|      iphone|01-06-2023|1100000|\n|         2|     samsung|01-06-2023|1100000|\n|         3|     oneplus|01-06-2023|1200000|\n+----------+------------+----------+-------+\n\n"
     ]
    }
   ],
   "source": [
    "product_df.show()"
   ]
  },
  {
   "cell_type": "code",
   "execution_count": 0,
   "metadata": {
    "application/vnd.databricks.v1+cell": {
     "cellMetadata": {
      "byteLimit": 2048000,
      "rowLimit": 10000
     },
     "inputWidgets": {},
     "nuid": "d1c02cdc-4ab8-4b5c-89b8-9bcd17848a9c",
     "showTitle": false,
     "title": ""
    }
   },
   "outputs": [
    {
     "output_type": "stream",
     "name": "stdout",
     "output_type": "stream",
     "text": [
      "+----------+------------+----------+-------+--------------------+\n|product_id|product_name|sales_date|  sales|previous_month_sales|\n+----------+------------+----------+-------+--------------------+\n|         1|      iphone|01-01-2023|1500000|                null|\n|         1|      iphone|01-02-2023|1300000|             1500000|\n|         1|      iphone|01-03-2023|1600000|             1300000|\n|         1|      iphone|01-04-2023|1700000|             1600000|\n|         1|      iphone|01-05-2023|1200000|             1700000|\n|         1|      iphone|01-06-2023|1100000|             1200000|\n|         2|     samsung|01-01-2023|1100000|                null|\n|         2|     samsung|01-02-2023|1120000|             1100000|\n|         2|     samsung|01-03-2023|1080000|             1120000|\n|         2|     samsung|01-04-2023|1800000|             1080000|\n|         2|     samsung|01-05-2023| 980000|             1800000|\n|         2|     samsung|01-06-2023|1100000|              980000|\n|         3|     oneplus|01-01-2023|1100000|                null|\n|         3|     oneplus|01-02-2023|1120000|             1100000|\n|         3|     oneplus|01-03-2023|1160000|             1120000|\n|         3|     oneplus|01-04-2023|1170000|             1160000|\n|         3|     oneplus|01-05-2023|1175000|             1170000|\n|         3|     oneplus|01-06-2023|1200000|             1175000|\n+----------+------------+----------+-------+--------------------+\n\n"
     ]
    }
   ],
   "source": [
    "window=Window.partitionBy(\"product_id\").orderBy(\"sales_date\")\n",
    "\n",
    "last_month_df=product_df.withColumn(\"previous_month_sales\",lag(col(\"sales\"),1).over(window))\n",
    "\n",
    "last_month_df.show()"
   ]
  },
  {
   "cell_type": "markdown",
   "metadata": {
    "application/vnd.databricks.v1+cell": {
     "cellMetadata": {},
     "inputWidgets": {},
     "nuid": "b808c497-81c6-4420-a90e-70483afbb27e",
     "showTitle": false,
     "title": ""
    }
   },
   "source": [
    "what is the percentage of loss or gain based on previous month sales?"
   ]
  },
  {
   "cell_type": "code",
   "execution_count": 0,
   "metadata": {
    "application/vnd.databricks.v1+cell": {
     "cellMetadata": {
      "byteLimit": 2048000,
      "rowLimit": 10000
     },
     "inputWidgets": {},
     "nuid": "ca73a055-6288-438f-9b7f-717cecca23db",
     "showTitle": false,
     "title": ""
    }
   },
   "outputs": [
    {
     "output_type": "stream",
     "name": "stdout",
     "output_type": "stream",
     "text": [
      "+----------+------------+----------+-------+--------------------+--------------+\n|product_id|product_name|sales_date|  sales|previous_month_sales|perc_loss_gain|\n+----------+------------+----------+-------+--------------------+--------------+\n|         1|      iphone|01-01-2023|1500000|                null|          null|\n|         1|      iphone|01-02-2023|1300000|             1500000|        -15.38|\n|         1|      iphone|01-03-2023|1600000|             1300000|         18.75|\n|         1|      iphone|01-04-2023|1700000|             1600000|          5.88|\n|         1|      iphone|01-05-2023|1200000|             1700000|        -41.67|\n|         1|      iphone|01-06-2023|1100000|             1200000|         -9.09|\n|         2|     samsung|01-01-2023|1100000|                null|          null|\n|         2|     samsung|01-02-2023|1120000|             1100000|          1.79|\n|         2|     samsung|01-03-2023|1080000|             1120000|          -3.7|\n|         2|     samsung|01-04-2023|1800000|             1080000|          40.0|\n|         2|     samsung|01-05-2023| 980000|             1800000|        -83.67|\n|         2|     samsung|01-06-2023|1100000|              980000|         10.91|\n|         3|     oneplus|01-01-2023|1100000|                null|          null|\n|         3|     oneplus|01-02-2023|1120000|             1100000|          1.79|\n|         3|     oneplus|01-03-2023|1160000|             1120000|          3.45|\n|         3|     oneplus|01-04-2023|1170000|             1160000|          0.85|\n|         3|     oneplus|01-05-2023|1175000|             1170000|          0.43|\n|         3|     oneplus|01-06-2023|1200000|             1175000|          2.08|\n+----------+------------+----------+-------+--------------------+--------------+\n\n"
     ]
    }
   ],
   "source": [
    "last_month_df.withColumn(\"perc_loss_gain\",\n",
    " round(((col(\"sales\")-col(\"previous_month_sales\"))/col(\"sales\"))*100,2))\\\n",
    "     .show()"
   ]
  },
  {
   "cell_type": "code",
   "execution_count": 0,
   "metadata": {
    "application/vnd.databricks.v1+cell": {
     "cellMetadata": {},
     "inputWidgets": {},
     "nuid": "cfa06e57-024a-4e45-a791-2e6e833ac660",
     "showTitle": false,
     "title": ""
    }
   },
   "outputs": [],
   "source": []
  }
 ],
 "metadata": {
  "application/vnd.databricks.v1+notebook": {
   "dashboards": [],
   "environmentMetadata": null,
   "language": "python",
   "notebookMetadata": {
    "pythonIndentUnit": 4
   },
   "notebookName": "lead and lag",
   "widgets": {}
  }
 },
 "nbformat": 4,
 "nbformat_minor": 0
}
