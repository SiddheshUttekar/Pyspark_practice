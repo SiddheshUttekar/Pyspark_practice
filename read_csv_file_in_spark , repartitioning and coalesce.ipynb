{
 "cells": [
  {
   "cell_type": "code",
   "execution_count": 0,
   "metadata": {
    "application/vnd.databricks.v1+cell": {
     "cellMetadata": {
      "byteLimit": 2048000,
      "rowLimit": 10000
     },
     "inputWidgets": {},
     "nuid": "57b3d307-8ed5-4cd8-a93b-ae82e9bf350c",
     "showTitle": false,
     "title": ""
    }
   },
   "outputs": [
    {
     "output_type": "display_data",
     "data": {
      "text/html": [
       "\n",
       "            <div>\n",
       "                <p><b>SparkSession - hive</b></p>\n",
       "                \n",
       "        <div>\n",
       "            <p><b>SparkContext</b></p>\n",
       "\n",
       "            <p><a href=\"/?o=4035299005835284#setting/sparkui/1013-114906-5zbfw0m5/driver-3740111769625305106\">Spark UI</a></p>\n",
       "\n",
       "            <dl>\n",
       "              <dt>Version</dt>\n",
       "                <dd><code>v3.3.2</code></dd>\n",
       "              <dt>Master</dt>\n",
       "                <dd><code>local[8]</code></dd>\n",
       "              <dt>AppName</dt>\n",
       "                <dd><code>Databricks Shell</code></dd>\n",
       "            </dl>\n",
       "        </div>\n",
       "        \n",
       "            </div>\n",
       "        "
      ]
     },
     "metadata": {
      "application/vnd.databricks.v1+output": {
       "addedWidgets": {},
       "arguments": {},
       "data": "\n            <div>\n                <p><b>SparkSession - hive</b></p>\n                \n        <div>\n            <p><b>SparkContext</b></p>\n\n            <p><a href=\"/?o=4035299005835284#setting/sparkui/1013-114906-5zbfw0m5/driver-3740111769625305106\">Spark UI</a></p>\n\n            <dl>\n              <dt>Version</dt>\n                <dd><code>v3.3.2</code></dd>\n              <dt>Master</dt>\n                <dd><code>local[8]</code></dd>\n              <dt>AppName</dt>\n                <dd><code>Databricks Shell</code></dd>\n            </dl>\n        </div>\n        \n            </div>\n        ",
       "datasetInfos": [],
       "metadata": {},
       "removedWidgets": [],
       "textData": null,
       "type": "htmlSandbox"
      }
     },
     "output_type": "display_data"
    }
   ],
   "source": [
    "spark"
   ]
  },
  {
   "cell_type": "code",
   "execution_count": 0,
   "metadata": {
    "application/vnd.databricks.v1+cell": {
     "cellMetadata": {
      "byteLimit": 2048000,
      "rowLimit": 10000
     },
     "inputWidgets": {},
     "nuid": "31f33c37-8105-49c8-85fd-5de3efae5c91",
     "showTitle": false,
     "title": ""
    }
   },
   "outputs": [
    {
     "output_type": "stream",
     "name": "stdout",
     "output_type": "stream",
     "text": [
      "+-----------------+-------------------+-----+\n|              _c0|                _c1|  _c2|\n+-----------------+-------------------+-----+\n|DEST_COUNTRY_NAME|ORIGIN_COUNTRY_NAME|count|\n|    United States|            Romania|    1|\n|    United States|            Ireland|  264|\n|    United States|              India|   69|\n|            Egypt|      United States|   24|\n+-----------------+-------------------+-----+\nonly showing top 5 rows\n\n"
     ]
    }
   ],
   "source": [
    "flight_df=spark.read.format(\"csv\")\\\n",
    "            .option(\"header\",\"false\")\\\n",
    "            .option(\"inferschema\",\"false\")\\\n",
    "            .option(\"mode\",\"FAILFAST\")\\\n",
    "            .load(\"/FileStore/tables/2010_summary.csv\")\n",
    "\n",
    "flight_df.show(5)"
   ]
  },
  {
   "cell_type": "code",
   "execution_count": 0,
   "metadata": {
    "application/vnd.databricks.v1+cell": {
     "cellMetadata": {
      "byteLimit": 2048000,
      "rowLimit": 10000
     },
     "inputWidgets": {},
     "nuid": "a6c46afb-50d3-4467-a26c-9571c1307f3d",
     "showTitle": false,
     "title": ""
    }
   },
   "outputs": [
    {
     "output_type": "stream",
     "name": "stdout",
     "output_type": "stream",
     "text": [
      "+-----------------+-------------------+-----+\n|DEST_COUNTRY_NAME|ORIGIN_COUNTRY_NAME|count|\n+-----------------+-------------------+-----+\n|    United States|            Romania|    1|\n|    United States|            Ireland|  264|\n|    United States|              India|   69|\n|            Egypt|      United States|   24|\n|Equatorial Guinea|      United States|    1|\n+-----------------+-------------------+-----+\nonly showing top 5 rows\n\n"
     ]
    }
   ],
   "source": [
    "flight_df_header=spark.read.format(\"csv\")\\\n",
    "            .option(\"header\",\"true\")\\\n",
    "            .option(\"inferschema\",\"false\")\\\n",
    "            .option(\"mode\",\"FAILFAST\")\\\n",
    "            .load(\"/FileStore/tables/2010_summary.csv\")\n",
    "\n",
    "flight_df_header.show(5)"
   ]
  },
  {
   "cell_type": "code",
   "execution_count": 0,
   "metadata": {
    "application/vnd.databricks.v1+cell": {
     "cellMetadata": {
      "byteLimit": 2048000,
      "rowLimit": 10000
     },
     "inputWidgets": {},
     "nuid": "c40a5238-6971-4b6b-b4f8-c523406c919d",
     "showTitle": false,
     "title": ""
    }
   },
   "outputs": [
    {
     "output_type": "stream",
     "name": "stdout",
     "output_type": "stream",
     "text": [
      "root\n |-- DEST_COUNTRY_NAME: string (nullable = true)\n |-- ORIGIN_COUNTRY_NAME: string (nullable = true)\n |-- count: string (nullable = true)\n\n"
     ]
    }
   ],
   "source": [
    "flight_df_header.printSchema()"
   ]
  },
  {
   "cell_type": "code",
   "execution_count": 0,
   "metadata": {
    "application/vnd.databricks.v1+cell": {
     "cellMetadata": {
      "byteLimit": 2048000,
      "rowLimit": 10000
     },
     "inputWidgets": {},
     "nuid": "da04af91-b4d8-429a-bd2a-ec1da0edd72d",
     "showTitle": false,
     "title": ""
    }
   },
   "outputs": [
    {
     "output_type": "stream",
     "name": "stdout",
     "output_type": "stream",
     "text": [
      "+-----------------+-------------------+-----+\n|DEST_COUNTRY_NAME|ORIGIN_COUNTRY_NAME|count|\n+-----------------+-------------------+-----+\n|    United States|            Romania|    1|\n|    United States|            Ireland|  264|\n|    United States|              India|   69|\n|            Egypt|      United States|   24|\n|Equatorial Guinea|      United States|    1|\n+-----------------+-------------------+-----+\nonly showing top 5 rows\n\n"
     ]
    }
   ],
   "source": [
    "flight_df_header_schema=spark.read.format(\"csv\")\\\n",
    "            .option(\"header\",\"true\")\\\n",
    "            .option(\"inferschema\",\"true\")\\\n",
    "            .option(\"mode\",\"FAILFAST\")\\\n",
    "            .load(\"/FileStore/tables/2010_summary.csv\")\n",
    "\n",
    "flight_df_header_schema.show(5)"
   ]
  },
  {
   "cell_type": "code",
   "execution_count": 0,
   "metadata": {
    "application/vnd.databricks.v1+cell": {
     "cellMetadata": {
      "byteLimit": 2048000,
      "rowLimit": 10000
     },
     "inputWidgets": {},
     "nuid": "58d93777-74b5-4630-82ab-d0d1ee5bed01",
     "showTitle": false,
     "title": ""
    }
   },
   "outputs": [
    {
     "output_type": "stream",
     "name": "stdout",
     "output_type": "stream",
     "text": [
      "root\n |-- DEST_COUNTRY_NAME: string (nullable = true)\n |-- ORIGIN_COUNTRY_NAME: string (nullable = true)\n |-- count: integer (nullable = true)\n\n"
     ]
    }
   ],
   "source": [
    "flight_df_header_schema.printSchema()"
   ]
  },
  {
   "cell_type": "markdown",
   "metadata": {
    "application/vnd.databricks.v1+cell": {
     "cellMetadata": {},
     "inputWidgets": {},
     "nuid": "25cbc127-026d-4ddc-a2f1-f6d1e426965a",
     "showTitle": false,
     "title": ""
    }
   },
   "source": [
    "repartition and coalesce"
   ]
  },
  {
   "cell_type": "code",
   "execution_count": 0,
   "metadata": {
    "application/vnd.databricks.v1+cell": {
     "cellMetadata": {
      "byteLimit": 2048000,
      "rowLimit": 10000
     },
     "inputWidgets": {},
     "nuid": "d403dc5c-7f56-4a35-92ef-6ff4ec0a016f",
     "showTitle": false,
     "title": ""
    }
   },
   "outputs": [],
   "source": [
    "from pyspark.sql.functions import *\n",
    "from pyspark.sql.types import *"
   ]
  },
  {
   "cell_type": "code",
   "execution_count": 0,
   "metadata": {
    "application/vnd.databricks.v1+cell": {
     "cellMetadata": {
      "byteLimit": 2048000,
      "rowLimit": 10000
     },
     "inputWidgets": {},
     "nuid": "380f7bf8-c2a4-42e1-bedb-11aabd000414",
     "showTitle": false,
     "title": ""
    }
   },
   "outputs": [
    {
     "output_type": "display_data",
     "data": {
      "text/html": [
       "<style scoped>\n",
       "  .table-result-container {\n",
       "    max-height: 300px;\n",
       "    overflow: auto;\n",
       "  }\n",
       "  table, th, td {\n",
       "    border: 1px solid black;\n",
       "    border-collapse: collapse;\n",
       "  }\n",
       "  th, td {\n",
       "    padding: 5px;\n",
       "  }\n",
       "  th {\n",
       "    text-align: left;\n",
       "  }\n",
       "</style><div class='table-result-container'><table class='table-result'><thead style='background-color: white'><tr><th>path</th><th>name</th><th>size</th><th>modificationTime</th></tr></thead><tbody><tr><td>dbfs:/FileStore/tables/2010_summary.csv</td><td>2010_summary.csv</td><td>7121</td><td>1728819970000</td></tr><tr><td>dbfs:/FileStore/tables/Json_data_with_extra_key.json</td><td>Json_data_with_extra_key.json</td><td>232</td><td>1728893223000</td></tr><tr><td>dbfs:/FileStore/tables/bucket_by_id/</td><td>bucket_by_id/</td><td>0</td><td>0</td></tr><tr><td>dbfs:/FileStore/tables/csv_write/</td><td>csv_write/</td><td>0</td><td>0</td></tr><tr><td>dbfs:/FileStore/tables/csv_write_repartition/</td><td>csv_write_repartition/</td><td>0</td><td>0</td></tr><tr><td>dbfs:/FileStore/tables/employee_data_set.csv</td><td>employee_data_set.csv</td><td>444</td><td>1728976179000</td></tr><tr><td>dbfs:/FileStore/tables/employee_datas_set.csv</td><td>employee_datas_set.csv</td><td>444</td><td>1728976071000</td></tr><tr><td>dbfs:/FileStore/tables/employee_dataset-1.csv</td><td>employee_dataset-1.csv</td><td>741</td><td>1728970535000</td></tr><tr><td>dbfs:/FileStore/tables/employee_dataset.csv</td><td>employee_dataset.csv</td><td>741</td><td>1728970427000</td></tr><tr><td>dbfs:/FileStore/tables/employee_file.csv</td><td>employee_file.csv</td><td>230</td><td>1729014160000</td></tr><tr><td>dbfs:/FileStore/tables/file5.json</td><td>file5.json</td><td>694359</td><td>1728894909000</td></tr><tr><td>dbfs:/FileStore/tables/file6.json</td><td>file6.json</td><td>669503</td><td>1728895496000</td></tr><tr><td>dbfs:/FileStore/tables/line_delimited_json.json</td><td>line_delimited_json.json</td><td>219</td><td>1728890411000</td></tr><tr><td>dbfs:/FileStore/tables/multiline_correct.json</td><td>multiline_correct.json</td><td>310</td><td>1728893812000</td></tr><tr><td>dbfs:/FileStore/tables/multiline_incorrect.json</td><td>multiline_incorrect.json</td><td>304</td><td>1728894094000</td></tr><tr><td>dbfs:/FileStore/tables/part_r_00000_1a9822ba_b8fb_4d8e_844a_ea30d0801b9e_gz.parquet</td><td>part_r_00000_1a9822ba_b8fb_4d8e_844a_ea30d0801b9e_gz.parquet</td><td>3921</td><td>1728912958000</td></tr><tr><td>dbfs:/FileStore/tables/partition_by_address/</td><td>partition_by_address/</td><td>0</td><td>0</td></tr><tr><td>dbfs:/FileStore/tables/partition_by_address_gender/</td><td>partition_by_address_gender/</td><td>0</td><td>0</td></tr><tr><td>dbfs:/FileStore/tables/partition_by_gender_address/</td><td>partition_by_gender_address/</td><td>0</td><td>0</td></tr><tr><td>dbfs:/FileStore/tables/partition_by_id/</td><td>partition_by_id/</td><td>0</td><td>0</td></tr></tbody></table></div>"
      ]
     },
     "metadata": {
      "application/vnd.databricks.v1+output": {
       "addedWidgets": {},
       "aggData": [],
       "aggError": "",
       "aggOverflow": false,
       "aggSchema": [],
       "aggSeriesLimitReached": false,
       "aggType": "",
       "arguments": {},
       "columnCustomDisplayInfos": {},
       "data": [
        [
         "dbfs:/FileStore/tables/2010_summary.csv",
         "2010_summary.csv",
         7121,
         1728819970000
        ],
        [
         "dbfs:/FileStore/tables/Json_data_with_extra_key.json",
         "Json_data_with_extra_key.json",
         232,
         1728893223000
        ],
        [
         "dbfs:/FileStore/tables/bucket_by_id/",
         "bucket_by_id/",
         0,
         0
        ],
        [
         "dbfs:/FileStore/tables/csv_write/",
         "csv_write/",
         0,
         0
        ],
        [
         "dbfs:/FileStore/tables/csv_write_repartition/",
         "csv_write_repartition/",
         0,
         0
        ],
        [
         "dbfs:/FileStore/tables/employee_data_set.csv",
         "employee_data_set.csv",
         444,
         1728976179000
        ],
        [
         "dbfs:/FileStore/tables/employee_datas_set.csv",
         "employee_datas_set.csv",
         444,
         1728976071000
        ],
        [
         "dbfs:/FileStore/tables/employee_dataset-1.csv",
         "employee_dataset-1.csv",
         741,
         1728970535000
        ],
        [
         "dbfs:/FileStore/tables/employee_dataset.csv",
         "employee_dataset.csv",
         741,
         1728970427000
        ],
        [
         "dbfs:/FileStore/tables/employee_file.csv",
         "employee_file.csv",
         230,
         1729014160000
        ],
        [
         "dbfs:/FileStore/tables/file5.json",
         "file5.json",
         694359,
         1728894909000
        ],
        [
         "dbfs:/FileStore/tables/file6.json",
         "file6.json",
         669503,
         1728895496000
        ],
        [
         "dbfs:/FileStore/tables/line_delimited_json.json",
         "line_delimited_json.json",
         219,
         1728890411000
        ],
        [
         "dbfs:/FileStore/tables/multiline_correct.json",
         "multiline_correct.json",
         310,
         1728893812000
        ],
        [
         "dbfs:/FileStore/tables/multiline_incorrect.json",
         "multiline_incorrect.json",
         304,
         1728894094000
        ],
        [
         "dbfs:/FileStore/tables/part_r_00000_1a9822ba_b8fb_4d8e_844a_ea30d0801b9e_gz.parquet",
         "part_r_00000_1a9822ba_b8fb_4d8e_844a_ea30d0801b9e_gz.parquet",
         3921,
         1728912958000
        ],
        [
         "dbfs:/FileStore/tables/partition_by_address/",
         "partition_by_address/",
         0,
         0
        ],
        [
         "dbfs:/FileStore/tables/partition_by_address_gender/",
         "partition_by_address_gender/",
         0,
         0
        ],
        [
         "dbfs:/FileStore/tables/partition_by_gender_address/",
         "partition_by_gender_address/",
         0,
         0
        ],
        [
         "dbfs:/FileStore/tables/partition_by_id/",
         "partition_by_id/",
         0,
         0
        ]
       ],
       "datasetInfos": [],
       "dbfsResultPath": null,
       "isJsonSchema": true,
       "metadata": {
        "isDbfsCommandResult": false
       },
       "overflow": false,
       "plotOptions": {
        "customPlotOptions": {},
        "displayType": "table",
        "pivotAggregation": null,
        "pivotColumns": null,
        "xColumns": null,
        "yColumns": null
       },
       "removedWidgets": [],
       "schema": [
        {
         "metadata": "{}",
         "name": "path",
         "type": "\"string\""
        },
        {
         "metadata": "{}",
         "name": "name",
         "type": "\"string\""
        },
        {
         "metadata": "{}",
         "name": "size",
         "type": "\"long\""
        },
        {
         "metadata": "{}",
         "name": "modificationTime",
         "type": "\"long\""
        }
       ],
       "type": "table"
      }
     },
     "output_type": "display_data"
    }
   ],
   "source": [
    "%fs\n",
    "ls FileStore/tables"
   ]
  },
  {
   "cell_type": "code",
   "execution_count": 0,
   "metadata": {
    "application/vnd.databricks.v1+cell": {
     "cellMetadata": {
      "byteLimit": 2048000,
      "rowLimit": 10000
     },
     "inputWidgets": {},
     "nuid": "bc75a09a-31c3-4c3f-a0bf-e838bb5780a1",
     "showTitle": false,
     "title": ""
    }
   },
   "outputs": [],
   "source": [
    "flight_df=spark.read.format(\"csv\")\\\n",
    "            .option(\"header\",\"true\")\\\n",
    "            .option(\"inferschema\",\"true\")\\\n",
    "            .load(\"dbfs:/FileStore/tables/2010_summary.csv\")"
   ]
  },
  {
   "cell_type": "code",
   "execution_count": 0,
   "metadata": {
    "application/vnd.databricks.v1+cell": {
     "cellMetadata": {
      "byteLimit": 2048000,
      "rowLimit": 10000
     },
     "inputWidgets": {},
     "nuid": "1baa9323-78df-4c62-a402-d6cdc3478870",
     "showTitle": false,
     "title": ""
    }
   },
   "outputs": [
    {
     "output_type": "stream",
     "name": "stdout",
     "output_type": "stream",
     "text": [
      "+--------------------+-------------------+-----+\n|   DEST_COUNTRY_NAME|ORIGIN_COUNTRY_NAME|count|\n+--------------------+-------------------+-----+\n|       United States|            Romania|    1|\n|       United States|            Ireland|  264|\n|       United States|              India|   69|\n|               Egypt|      United States|   24|\n|   Equatorial Guinea|      United States|    1|\n|       United States|          Singapore|   25|\n|       United States|            Grenada|   54|\n|          Costa Rica|      United States|  477|\n|             Senegal|      United States|   29|\n|       United States|   Marshall Islands|   44|\n|              Guyana|      United States|   17|\n|       United States|       Sint Maarten|   53|\n|               Malta|      United States|    1|\n|             Bolivia|      United States|   46|\n|            Anguilla|      United States|   21|\n|Turks and Caicos ...|      United States|  136|\n|       United States|        Afghanistan|    2|\n|Saint Vincent and...|      United States|    1|\n|               Italy|      United States|  390|\n|       United States|             Russia|  156|\n+--------------------+-------------------+-----+\nonly showing top 20 rows\n\n"
     ]
    }
   ],
   "source": [
    "flight_df.show()"
   ]
  },
  {
   "cell_type": "code",
   "execution_count": 0,
   "metadata": {
    "application/vnd.databricks.v1+cell": {
     "cellMetadata": {
      "byteLimit": 2048000,
      "rowLimit": 10000
     },
     "inputWidgets": {},
     "nuid": "941bc653-e69e-4e28-8f94-dc48e7c090fb",
     "showTitle": false,
     "title": ""
    }
   },
   "outputs": [
    {
     "output_type": "stream",
     "name": "stdout",
     "output_type": "stream",
     "text": [
      "Out[5]: 255"
     ]
    }
   ],
   "source": [
    "flight_df.count()"
   ]
  },
  {
   "cell_type": "code",
   "execution_count": 0,
   "metadata": {
    "application/vnd.databricks.v1+cell": {
     "cellMetadata": {
      "byteLimit": 2048000,
      "rowLimit": 10000
     },
     "inputWidgets": {},
     "nuid": "cda8c8ac-9e1b-4e38-bd79-25a051c77901",
     "showTitle": false,
     "title": ""
    }
   },
   "outputs": [
    {
     "output_type": "stream",
     "name": "stdout",
     "output_type": "stream",
     "text": [
      "Out[6]: 1"
     ]
    }
   ],
   "source": [
    "flight_df.rdd.getNumPartitions()"
   ]
  },
  {
   "cell_type": "code",
   "execution_count": 0,
   "metadata": {
    "application/vnd.databricks.v1+cell": {
     "cellMetadata": {
      "byteLimit": 2048000,
      "rowLimit": 10000
     },
     "inputWidgets": {},
     "nuid": "8b0f662b-169f-44e2-bd55-cdde0e293236",
     "showTitle": false,
     "title": ""
    }
   },
   "outputs": [],
   "source": [
    "partitioned_flight_df=flight_df.repartition(4)"
   ]
  },
  {
   "cell_type": "code",
   "execution_count": 0,
   "metadata": {
    "application/vnd.databricks.v1+cell": {
     "cellMetadata": {
      "byteLimit": 2048000,
      "rowLimit": 10000
     },
     "inputWidgets": {},
     "nuid": "07244165-e900-43f2-b3b6-ab9649d70649",
     "showTitle": false,
     "title": ""
    }
   },
   "outputs": [
    {
     "output_type": "stream",
     "name": "stdout",
     "output_type": "stream",
     "text": [
      "+-----------+-----+\n|partitionId|count|\n+-----------+-----+\n|          0|   63|\n|          1|   64|\n|          2|   64|\n|          3|   64|\n+-----------+-----+\n\n"
     ]
    }
   ],
   "source": [
    "partitioned_flight_df.withColumn(\"partitionId\",spark_partition_id()).groupBy(\"partitionId\").count().show()"
   ]
  },
  {
   "cell_type": "markdown",
   "metadata": {
    "application/vnd.databricks.v1+cell": {
     "cellMetadata": {},
     "inputWidgets": {},
     "nuid": "297633de-3772-4743-9e52-926d66225d1a",
     "showTitle": false,
     "title": ""
    }
   },
   "source": [
    "repartiton based on column or specific column"
   ]
  },
  {
   "cell_type": "code",
   "execution_count": 0,
   "metadata": {
    "application/vnd.databricks.v1+cell": {
     "cellMetadata": {
      "byteLimit": 2048000,
      "rowLimit": 10000
     },
     "inputWidgets": {},
     "nuid": "dbf08c33-689c-4fda-9648-d549ddf682c5",
     "showTitle": false,
     "title": ""
    }
   },
   "outputs": [],
   "source": [
    "partitioned_on_column=flight_df.repartition(300,\"ORIGIN_COUNTRY_NAME\")"
   ]
  },
  {
   "cell_type": "markdown",
   "metadata": {
    "application/vnd.databricks.v1+cell": {
     "cellMetadata": {},
     "inputWidgets": {},
     "nuid": "42fe7177-8b49-4482-befb-d2d2e627c681",
     "showTitle": false,
     "title": ""
    }
   },
   "source": [
    "make 300 partiton based on origin_country_name\n",
    "we have 255 records and we try to make more partition like 300 but we have 255 then what it will do it will keep null value in some record or partition"
   ]
  },
  {
   "cell_type": "code",
   "execution_count": 0,
   "metadata": {
    "application/vnd.databricks.v1+cell": {
     "cellMetadata": {
      "byteLimit": 2048000,
      "rowLimit": 10000
     },
     "inputWidgets": {},
     "nuid": "b362d5a6-d940-4d2a-b163-17dded3bd3c5",
     "showTitle": false,
     "title": ""
    }
   },
   "outputs": [
    {
     "output_type": "stream",
     "name": "stdout",
     "output_type": "stream",
     "text": [
      "Out[10]: 300"
     ]
    }
   ],
   "source": [
    "partitioned_on_column.rdd.getNumPartitions()"
   ]
  },
  {
   "cell_type": "code",
   "execution_count": 0,
   "metadata": {
    "application/vnd.databricks.v1+cell": {
     "cellMetadata": {
      "byteLimit": 2048000,
      "rowLimit": 10000
     },
     "inputWidgets": {},
     "nuid": "96ea1bc6-7e7d-49e7-9783-b321c9afaf87",
     "showTitle": false,
     "title": ""
    }
   },
   "outputs": [
    {
     "output_type": "stream",
     "name": "stdout",
     "output_type": "stream",
     "text": [
      "+-----------+-----+\n|partitionId|count|\n+-----------+-----+\n|          0|    1|\n|          2|    1|\n|          7|    1|\n|         10|    1|\n|         13|    1|\n|         15|    2|\n|         16|    2|\n|         19|    1|\n|         21|    1|\n|         22|    1|\n|         28|    1|\n|         31|    1|\n|         39|    1|\n|         42|    1|\n|         43|    1|\n|         44|    1|\n|         45|    2|\n|         48|    1|\n|         53|    1|\n|         54|    1|\n|         55|    1|\n|         65|    1|\n|         70|    1|\n|         73|    1|\n|         75|    1|\n|         76|    2|\n|         81|    1|\n|         84|    2|\n|         86|    1|\n|         87|    1|\n|         90|    1|\n|         91|    1|\n|         97|    2|\n|        100|    1|\n|        103|    2|\n|        104|    1|\n|        108|    1|\n|        112|    2|\n|        115|    1|\n|        117|    2|\n|        126|    1|\n|        127|    2|\n|        129|    1|\n|        130|    2|\n|        132|    1|\n|        133|    1|\n|        138|    1|\n|        140|    1|\n|        144|    1|\n|        148|    1|\n|        156|    2|\n|        157|    1|\n|        159|    2|\n|        162|    1|\n|        165|    1|\n|        172|    1|\n|        174|    1|\n|        175|    1|\n|        176|    1|\n|        178|    1|\n|        181|    1|\n|        185|    2|\n|        188|    1|\n|        201|    1|\n|        202|    1|\n|        204|    2|\n|        209|    1|\n|        210|    1|\n|        213|    1|\n|        215|    1|\n|        220|    1|\n|        221|    1|\n|        223|    1|\n|        225|    1|\n|        226|    1|\n|        230|    1|\n|        231|    1|\n|        234|    1|\n|        236|    1|\n|        238|    2|\n|        242|    1|\n|        243|    1|\n|        245|    1|\n|        251|    1|\n|        254|    1|\n|        256|    1|\n|        257|    1|\n|        258|    1|\n|        259|  126|\n|        262|    2|\n|        263|    1|\n|        267|    1|\n|        268|    1|\n|        269|    1|\n|        271|    1|\n|        272|    1|\n|        275|    1|\n|        276|    1|\n|        277|    2|\n|        280|    2|\n|        281|    2|\n|        283|    1|\n|        284|    1|\n|        286|    1|\n|        288|    1|\n|        290|    1|\n|        295|    2|\n|        296|    1|\n|        299|    1|\n+-----------+-----+\n\n"
     ]
    }
   ],
   "source": [
    "partitioned_on_column.withColumn(\"partitionId\",spark_partition_id()).groupBy(\"partitionId\").count().show(300)"
   ]
  },
  {
   "cell_type": "markdown",
   "metadata": {
    "application/vnd.databricks.v1+cell": {
     "cellMetadata": {},
     "inputWidgets": {},
     "nuid": "96d6c623-cbf8-4cab-9343-b503f55743f5",
     "showTitle": false,
     "title": ""
    }
   },
   "source": [
    "coalesce"
   ]
  },
  {
   "cell_type": "code",
   "execution_count": 0,
   "metadata": {
    "application/vnd.databricks.v1+cell": {
     "cellMetadata": {
      "byteLimit": 2048000,
      "rowLimit": 10000
     },
     "inputWidgets": {},
     "nuid": "2ebd2a22-c177-43e4-849f-3dc4ce4f70b7",
     "showTitle": false,
     "title": ""
    }
   },
   "outputs": [],
   "source": [
    "coalesce_flight_df=flight_df.repartition(8)"
   ]
  },
  {
   "cell_type": "code",
   "execution_count": 0,
   "metadata": {
    "application/vnd.databricks.v1+cell": {
     "cellMetadata": {
      "byteLimit": 2048000,
      "rowLimit": 10000
     },
     "inputWidgets": {},
     "nuid": "954c20f2-4223-4f4d-aa20-fb76e9b312f4",
     "showTitle": false,
     "title": ""
    }
   },
   "outputs": [
    {
     "output_type": "stream",
     "name": "stdout",
     "output_type": "stream",
     "text": [
      "+-----------+-----+\n|partitionId|count|\n+-----------+-----+\n|          0|   32|\n|          1|   31|\n|          2|   32|\n|          3|   32|\n|          4|   32|\n|          5|   32|\n|          6|   32|\n|          7|   32|\n+-----------+-----+\n\n"
     ]
    }
   ],
   "source": [
    "coalesce_flight_df.withColumn(\"partitionId\",spark_partition_id()).groupBy(\"partitionId\").count().show()"
   ]
  },
  {
   "cell_type": "code",
   "execution_count": 0,
   "metadata": {
    "application/vnd.databricks.v1+cell": {
     "cellMetadata": {
      "byteLimit": 2048000,
      "rowLimit": 10000
     },
     "inputWidgets": {},
     "nuid": "eb06652f-51a1-485c-a051-9b666bbf07ff",
     "showTitle": false,
     "title": ""
    }
   },
   "outputs": [],
   "source": [
    "three_coalesce_df=coalesce_flight_df.coalesce(3)"
   ]
  },
  {
   "cell_type": "code",
   "execution_count": 0,
   "metadata": {
    "application/vnd.databricks.v1+cell": {
     "cellMetadata": {
      "byteLimit": 2048000,
      "rowLimit": 10000
     },
     "inputWidgets": {},
     "nuid": "56d85a93-361b-4182-bc87-7487ff7aa1e5",
     "showTitle": false,
     "title": ""
    }
   },
   "outputs": [
    {
     "output_type": "stream",
     "name": "stdout",
     "output_type": "stream",
     "text": [
      "+-----------+-----+\n|partitionId|count|\n+-----------+-----+\n|          0|   63|\n|          1|   96|\n|          2|   96|\n+-----------+-----+\n\n"
     ]
    }
   ],
   "source": [
    "three_coalesce_df.withColumn(\"partitionId\",spark_partition_id()).groupBy(\"partitionId\").count().show()"
   ]
  },
  {
   "cell_type": "code",
   "execution_count": 0,
   "metadata": {
    "application/vnd.databricks.v1+cell": {
     "cellMetadata": {},
     "inputWidgets": {},
     "nuid": "b4de2019-d689-45ae-b93b-a9ffa1739812",
     "showTitle": false,
     "title": ""
    }
   },
   "outputs": [],
   "source": []
  }
 ],
 "metadata": {
  "application/vnd.databricks.v1+notebook": {
   "dashboards": [],
   "environmentMetadata": null,
   "language": "python",
   "notebookMetadata": {
    "mostRecentlyExecutedCommandWithImplicitDF": {
     "commandId": 1252531948404768,
     "dataframes": [
      "_sqldf"
     ]
    },
    "pythonIndentUnit": 4
   },
   "notebookName": "read_csv_file_in_spark , repartitioning and coalesce",
   "widgets": {}
  }
 },
 "nbformat": 4,
 "nbformat_minor": 0
}
